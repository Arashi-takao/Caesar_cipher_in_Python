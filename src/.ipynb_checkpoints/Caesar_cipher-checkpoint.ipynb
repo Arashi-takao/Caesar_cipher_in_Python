{
 "cells": [
  {
   "cell_type": "markdown",
   "metadata": {
    "colab_type": "text",
    "id": "orBFvUMkAWJa"
   },
   "source": [
    "### **`Caesar Cipher algorithm`**"
   ]
  },
  {
   "cell_type": "code",
   "execution_count": null,
   "metadata": {
    "colab": {},
    "colab_type": "code",
    "id": "7dpvEam_XR2R"
   },
   "outputs": [],
   "source": [
    "import string\n",
    "alphabet_string = string.ascii_lowercase\n",
    "alphabet_string = list(alphabet_string)\n",
    "alpha_punctuation = string.punctuation"
   ]
  },
  {
   "cell_type": "code",
   "execution_count": null,
   "metadata": {
    "colab": {},
    "colab_type": "code",
    "id": "zfgh90M7Bgjq"
   },
   "outputs": [],
   "source": [
    "def get_new_alphabet(key):\n",
    "\n",
    "    new_alphabet = []  \n",
    "    for index, val in enumerate(alphabet_string):\n",
    "        index = (index + key) % 26\n",
    "        new_alphabet.insert(index,val)\n",
    "        \n",
    "    return new_alphabet"
   ]
  },
  {
   "cell_type": "code",
   "execution_count": null,
   "metadata": {
    "colab": {},
    "colab_type": "code",
    "id": "8y-gbfdXHDmL"
   },
   "outputs": [],
   "source": [
    "def convert_plain_to_numbers(plain_text):\n",
    "  \n",
    "    plain_text = plain_text.lower()\n",
    "    number_of_message = []\n",
    "    \n",
    "    for item in plain_text:\n",
    "        \n",
    "        for index,a_item in enumerate(alphabet_string):\n",
    "            if (item in alpha_punctuation):\n",
    "                number_of_message.append(item)\n",
    "                break\n",
    "            \n",
    "            if (a_item == item):\n",
    "                number_of_message.append(index)\n",
    "                break\n",
    "              \n",
    "              \n",
    "            if (item == ' '):\n",
    "                number_of_message.append(item)\n",
    "                break\n",
    "              \n",
    "    return number_of_message"
   ]
  },
  {
   "cell_type": "code",
   "execution_count": null,
   "metadata": {
    "colab": {},
    "colab_type": "code",
    "id": "wXcqTQe6JVEw"
   },
   "outputs": [],
   "source": [
    "def convert_cipher_text(plain_to_number,new_alphabet):\n",
    "    \n",
    "    cipher_text = []\n",
    "    \n",
    "    for item in plain_to_number:\n",
    "        \n",
    "        for index,val in enumerate(new_alphabet):\n",
    "            if (str(item) in alpha_punctuation):\n",
    "                cipher_text.append(item)\n",
    "                break\n",
    "                 \n",
    "            if (item == index):\n",
    "                cipher_text.append(val)\n",
    "                break\n",
    "       \n",
    "            if (item == ' '):\n",
    "                cipher_text.append(item)\n",
    "                break\n",
    "            \n",
    "    return cipher_text"
   ]
  },
  {
   "cell_type": "code",
   "execution_count": null,
   "metadata": {
    "colab": {},
    "colab_type": "code",
    "id": "bA-z1-7LAb4L"
   },
   "outputs": [],
   "source": [
    "def caesar_algorithm():\n",
    "\n",
    "    check_string = True\n",
    "    while check_string:\n",
    "        plain_text = input(\"Enter your message: \")\n",
    "        for character in plain_text:\n",
    "            if character.isdigit():\n",
    "                print(\"INVALID MESSAGE!! Please enter a message of type string. \")\n",
    "                break\n",
    "            \n",
    "        else:\n",
    "            check_string = False\n",
    "            break\n",
    "    key = int(input(\"Enter a key: \"))\n",
    "    new_alphabet = get_new_alphabet(key)\n",
    "    plain_to_number = convert_plain_to_numbers(plain_text)\n",
    "    cipher_text = convert_cipher_text(plain_to_number,new_alphabet)\n",
    "    print(\"Plain text: \",plain_text)\n",
    "    print(\"Key: \",key)\n",
    "    print(\"Cipher text: \", \"\".join(cipher_text))         "
   ]
  },
  {
   "cell_type": "code",
   "execution_count": null,
   "metadata": {
    "colab": {
     "base_uri": "https://localhost:8080/",
     "height": 104
    },
    "colab_type": "code",
    "id": "fxHSeUQ2Sq5i",
    "outputId": "e285f9f3-49fb-498a-f3e7-85adf6142304"
   },
   "outputs": [],
   "source": [
    "caesar_algorithm()"
   ]
  }
 ],
 "metadata": {
  "colab": {
   "collapsed_sections": [],
   "name": "Untitled1.ipynb",
   "provenance": []
  },
  "kernelspec": {
   "display_name": "Python 3",
   "language": "python",
   "name": "python3"
  },
  "language_info": {
   "codemirror_mode": {
    "name": "ipython",
    "version": 3
   },
   "file_extension": ".py",
   "mimetype": "text/x-python",
   "name": "python",
   "nbconvert_exporter": "python",
   "pygments_lexer": "ipython3",
   "version": "3.7.4"
  }
 },
 "nbformat": 4,
 "nbformat_minor": 1
}
